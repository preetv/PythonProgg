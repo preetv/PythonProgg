{
 "cells": [
  {
   "cell_type": "markdown",
   "metadata": {},
   "source": [
    "# Steps to change an individual element of tuple :\n",
    "- Convert the tuple to list.\n",
    "- Change the element in the list.\n",
    "- Convert changed the list back to tuple."
   ]
  },
  {
   "cell_type": "code",
   "execution_count": 1,
   "metadata": {},
   "outputs": [
    {
     "name": "stdout",
     "output_type": "stream",
     "text": [
      "Given Tuple: ('i', 'am new to ', 'python')\n",
      "After Converting Tuple into List: ['i', 'am new to ', 'python']\n",
      "List after changing element: ['i', 'practice', 'python']\n",
      "After Converting List into Tuple: ('i', 'practice', 'python')\n"
     ]
    }
   ],
   "source": [
    "#Program i submitted during learning of NEAT-AICTE Python course\n",
    "mytuple = (\"i\", \"am new to \", \"python\")\n",
    "print(\"Given Tuple:\",mytuple)\n",
    "list1 = list(mytuple)\n",
    "print(\"After Converting Tuple into List:\",list1)\n",
    "list1[1]=\"practice\"\n",
    "print(\"List after changing element:\",list1)\n",
    "mytuple=tuple(list1)\n",
    "print(\"After Converting List into Tuple:\",mytuple)"
   ]
  },
  {
   "cell_type": "code",
   "execution_count": null,
   "metadata": {},
   "outputs": [],
   "source": []
  }
 ],
 "metadata": {
  "kernelspec": {
   "display_name": "Python 3",
   "language": "python",
   "name": "python3"
  },
  "language_info": {
   "codemirror_mode": {
    "name": "ipython",
    "version": 3
   },
   "file_extension": ".py",
   "mimetype": "text/x-python",
   "name": "python",
   "nbconvert_exporter": "python",
   "pygments_lexer": "ipython3",
   "version": "3.7.6"
  }
 },
 "nbformat": 4,
 "nbformat_minor": 2
}

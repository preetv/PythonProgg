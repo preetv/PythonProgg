{
 "cells": [
  {
   "cell_type": "markdown",
   "metadata": {},
   "source": [
    "## Module 1: Python Essentials"
   ]
  },
  {
   "cell_type": "code",
   "execution_count": 59,
   "metadata": {},
   "outputs": [
    {
     "name": "stdout",
     "output_type": "stream",
     "text": [
      "[3, 6, 9, 4]\n",
      "[3, 4, 0, -5]\n"
     ]
    }
   ],
   "source": [
    "# Problem: Use list comprehension to filter number between given bounds [4 Points]\n",
    "def filter_integers_in_bound(upper_bound, lower_bound, numbers):\n",
    "    result=[i for i in numbers if i >= upper_bound and i <= lower_bound]\n",
    "    print(result)\n",
    "    return result\n",
    "\n",
    "assert filter_integers_in_bound(3, 9, [12, 3, 6, 9, 4, 0, 24]) == [3, 6, 9, 4]\n",
    "assert filter_integers_in_bound(-7, 6, [-10, 3, 56, 19, 4, 0, -5]) == [3, 4, 0, -5]"
   ]
  },
  {
   "cell_type": "code",
   "execution_count": 65,
   "metadata": {},
   "outputs": [],
   "source": [
    "def return_number_of_common_words(string1, string2):\n",
    "    s1 = set(string1.split())\n",
    "    s2 = set(string2.split())\n",
    "    common=len(s1&s2)\n",
    "    return common\n",
    "\n",
    "assert return_number_of_common_words(\"hi hello\", \"hi\") == 1\n",
    "assert return_number_of_common_words(\"this is testing work\", \"this is training work\") == 3\n",
    "assert return_number_of_common_words(\"work is in progress\", \"No one cares\") == 0"
   ]
  },
  {
   "cell_type": "code",
   "execution_count": 64,
   "metadata": {},
   "outputs": [],
   "source": [
    "# Problem: Returns the dictionary of words and their frequency in input string [6 Points]\n",
    "def get_word_count(input_string):\n",
    "    result = dict()\n",
    "    ss=input_string.split()\n",
    "    for i in ss:\n",
    "        if i in result:\n",
    "            result[i]+=1\n",
    "        else:\n",
    "            result[i]=1\n",
    "    return result\n",
    "    return result\n",
    "assert get_word_count(\"hi hello hi i\") == {\"hi\": 2, \"hello\": 1, \"i\": 1}"
   ]
  },
  {
   "cell_type": "code",
   "execution_count": 67,
   "metadata": {},
   "outputs": [
    {
     "ename": "AssertionError",
     "evalue": "",
     "output_type": "error",
     "traceback": [
      "\u001b[1;31m---------------------------------------------------------------------------\u001b[0m",
      "\u001b[1;31mAssertionError\u001b[0m                            Traceback (most recent call last)",
      "\u001b[1;32m<ipython-input-67-ce07b0c2eec3>\u001b[0m in \u001b[0;36m<module>\u001b[1;34m\u001b[0m\n\u001b[0;32m      3\u001b[0m     \u001b[1;32mpass\u001b[0m\u001b[1;33m\u001b[0m\u001b[1;33m\u001b[0m\u001b[0m\n\u001b[0;32m      4\u001b[0m \u001b[1;33m\u001b[0m\u001b[0m\n\u001b[1;32m----> 5\u001b[1;33m \u001b[1;32massert\u001b[0m \u001b[0mmethod_runner\u001b[0m\u001b[1;33m(\u001b[0m\u001b[0mmin\u001b[0m\u001b[1;33m,\u001b[0m \u001b[1;33m[\u001b[0m\u001b[1;36m2\u001b[0m\u001b[1;33m,\u001b[0m \u001b[1;36m5\u001b[0m\u001b[1;33m,\u001b[0m \u001b[1;36m0.9\u001b[0m\u001b[1;33m,\u001b[0m \u001b[1;36m6.4\u001b[0m\u001b[1;33m]\u001b[0m\u001b[1;33m)\u001b[0m \u001b[1;33m==\u001b[0m \u001b[1;36m0.9\u001b[0m\u001b[1;33m\u001b[0m\u001b[1;33m\u001b[0m\u001b[0m\n\u001b[0m\u001b[0;32m      6\u001b[0m \u001b[1;32massert\u001b[0m \u001b[0mmethod_runner\u001b[0m\u001b[1;33m(\u001b[0m\u001b[1;32mlambda\u001b[0m \u001b[0mx\u001b[0m\u001b[1;33m:\u001b[0m \u001b[0mx\u001b[0m\u001b[1;33m*\u001b[0m\u001b[0mx\u001b[0m\u001b[1;33m,\u001b[0m \u001b[1;36m5\u001b[0m\u001b[1;33m)\u001b[0m \u001b[1;33m==\u001b[0m \u001b[1;36m25\u001b[0m\u001b[1;33m\u001b[0m\u001b[1;33m\u001b[0m\u001b[0m\n",
      "\u001b[1;31mAssertionError\u001b[0m: "
     ]
    }
   ],
   "source": [
    "# Problem: apply function on input and return result [2 Points]\n",
    "def method_runner(function, input_data):\n",
    "    pass\n",
    "\n",
    "assert method_runner(min, [2, 5, 0.9, 6.4]) == 0.9\n",
    "assert method_runner(lambda x: x*x, 5) == 25\n"
   ]
  },
  {
   "cell_type": "markdown",
   "metadata": {},
   "source": [
    "## Module 2: OOP"
   ]
  },
  {
   "cell_type": "code",
   "execution_count": 62,
   "metadata": {},
   "outputs": [],
   "source": [
    "# Problem: 1. Design and write a class for Car with constructor. [2 Point]\n",
    "#          2. Include custom print capabilities. [1 Points] \n",
    "#          3. Also method to add & list features. [3 Points] \n",
    "#          4. Customize object compare so two cars are equal if make and model_name are same. [2 Point]\n",
    "\n",
    "\n",
    "class Car:\n",
    "    def __init__(self,name,year,model):\n",
    "        self.name=name\n",
    "        self.year=year\n",
    "        self.model=model\n",
    "        self.l1=[]\n",
    "    def __eq__(self,other):\n",
    "        return self.name==other.name and self.model==other.model\n",
    "    def __str__(self):\n",
    "        return f\"{self.name}'s model {self.model}, built in {self.year}.\"\n",
    "    def list_features(self):\n",
    "        return self.l1 \n",
    "    def add_feature(self,feature):\n",
    "        self.l1.append(feature)\n",
    "        \n",
    "\n",
    "# 1\n",
    "c = Car(\"BMW\", 2015, \"X1\")\n",
    "# 2\n",
    "assert str(c) == \"BMW's model X1, built in 2015.\"\n",
    "# 3\n",
    "assert c.list_features() == []\n",
    "c.add_feature(\"iDrive 6.0 Systems\")\n",
    "c.add_feature(\"Dynamic Cruise Control\")\n",
    "assert c.list_features() == [\"iDrive 6.0 Systems\", \"Dynamic Cruise Control\"]\n",
    "# 4\n",
    "assert Car(\"BMW\", 2014, \"M8\") == Car(\"BMW\", 2018, \"M8\")\n",
    "assert Car(\"BMW\", 2014, \"M8\") != Car(\"BMW\", 2014, \"i220\")"
   ]
  },
  {
   "cell_type": "code",
   "execution_count": 68,
   "metadata": {},
   "outputs": [],
   "source": [
    "class Parent:\n",
    "    def run_parent_method(self):\n",
    "        return \"This is parent method\"\n",
    "    \n",
    "class Child(Parent):\n",
    "    def run_child_method(self):\n",
    "        Parent.run_parent_method(self)\n",
    "        return 'This is child method'\n",
    "\n",
    "assert Child().run_parent_method() == \"This is parent method\"\n",
    "assert Child().run_child_method() == \"This is child method\""
   ]
  },
  {
   "cell_type": "code",
   "execution_count": null,
   "metadata": {},
   "outputs": [],
   "source": []
  }
 ],
 "metadata": {
  "kernelspec": {
   "display_name": "Python 3",
   "language": "python",
   "name": "python3"
  },
  "language_info": {
   "codemirror_mode": {
    "name": "ipython",
    "version": 3
   },
   "file_extension": ".py",
   "mimetype": "text/x-python",
   "name": "python",
   "nbconvert_exporter": "python",
   "pygments_lexer": "ipython3",
   "version": "3.7.6"
  }
 },
 "nbformat": 4,
 "nbformat_minor": 4
}
